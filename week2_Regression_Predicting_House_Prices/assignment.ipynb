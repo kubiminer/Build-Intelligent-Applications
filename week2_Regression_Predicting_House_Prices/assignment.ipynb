{
 "cells": [
  {
   "cell_type": "markdown",
   "metadata": {},
   "source": [
    "##Predicting house prices\n"
   ]
  },
  {
   "cell_type": "code",
   "execution_count": 45,
   "metadata": {
    "collapsed": true
   },
   "outputs": [],
   "source": [
    "from __future__ import division"
   ]
  },
  {
   "cell_type": "code",
   "execution_count": 1,
   "metadata": {
    "collapsed": false
   },
   "outputs": [
    {
     "data": {
      "text/plain": [
       "Index([u'id', u'date', u'price', u'bedrooms', u'bathrooms', u'sqft_living',\n",
       "       u'sqft_lot', u'floors', u'waterfront', u'view', u'condition', u'grade',\n",
       "       u'sqft_above', u'sqft_basement', u'yr_built', u'yr_renovated',\n",
       "       u'zipcode', u'lat', u'long', u'sqft_living15', u'sqft_lot15'],\n",
       "      dtype='object')"
      ]
     },
     "execution_count": 1,
     "metadata": {},
     "output_type": "execute_result"
    }
   ],
   "source": [
    "import numpy as np\n",
    "import pandas as pd\n",
    "\n",
    "df = pd.read_csv('home_data.csv')\n",
    "df.columns"
   ]
  },
  {
   "cell_type": "markdown",
   "metadata": {},
   "source": [
    "**1. Selection and summary statistics: We found the zip code with the highest average house price. What is the average house price of that zip code?**\n",
    "\n",
    "$75,000\n",
    "\n",
    "$7,700,000\n",
    "\n",
    "$540,088\n",
    "\n",
    "$2,160,607"
   ]
  },
  {
   "cell_type": "code",
   "execution_count": 12,
   "metadata": {
    "collapsed": false
   },
   "outputs": [
    {
     "data": {
      "text/html": [
       "<div>\n",
       "<table border=\"1\" class=\"dataframe\">\n",
       "  <thead>\n",
       "    <tr style=\"text-align: right;\">\n",
       "      <th></th>\n",
       "      <th>price</th>\n",
       "    </tr>\n",
       "    <tr>\n",
       "      <th>zipcode</th>\n",
       "      <th></th>\n",
       "    </tr>\n",
       "  </thead>\n",
       "  <tbody>\n",
       "    <tr>\n",
       "      <th>98039</th>\n",
       "      <td>2160606</td>\n",
       "    </tr>\n",
       "    <tr>\n",
       "      <th>98004</th>\n",
       "      <td>1355927</td>\n",
       "    </tr>\n",
       "    <tr>\n",
       "      <th>98040</th>\n",
       "      <td>1194230</td>\n",
       "    </tr>\n",
       "    <tr>\n",
       "      <th>98112</th>\n",
       "      <td>1095499</td>\n",
       "    </tr>\n",
       "    <tr>\n",
       "      <th>98102</th>\n",
       "      <td>901258</td>\n",
       "    </tr>\n",
       "  </tbody>\n",
       "</table>\n",
       "</div>"
      ],
      "text/plain": [
       "           price\n",
       "zipcode         \n",
       "98039    2160606\n",
       "98004    1355927\n",
       "98040    1194230\n",
       "98112    1095499\n",
       "98102     901258"
      ]
     },
     "execution_count": 12,
     "metadata": {},
     "output_type": "execute_result"
    }
   ],
   "source": [
    "df_grp = df[['zipcode','price']].groupby('zipcode').mean()\n",
    "df_grp.sort_values(by='price', ascending=False)[:5]"
   ]
  },
  {
   "cell_type": "markdown",
   "metadata": {},
   "source": [
    "**2. Filtering data: What fraction of the houses have living space between 2000 sq.ft. and 4000 sq.ft.?**\n",
    "\n",
    "Between 0.2 and 0.29\n",
    "\n",
    "Between 0.3 and 0.39\n",
    "\n",
    "Between 0.4 and 0.49\n",
    "\n",
    "Between 0.5 and 0.59\n",
    "\n",
    "Between 0.6 and 0.69"
   ]
  },
  {
   "cell_type": "code",
   "execution_count": 46,
   "metadata": {
    "collapsed": false
   },
   "outputs": [
    {
     "name": "stdout",
     "output_type": "stream",
     "text": [
      "0.45\n"
     ]
    }
   ],
   "source": [
    "print( \"%.2f\" % (df['sqft_living'][(df['sqft_living']>2000) & (df['sqft_living']<5000)].size / df['sqft_living'].size))"
   ]
  },
  {
   "cell_type": "markdown",
   "metadata": {},
   "source": [
    "**3.Building a regression model with several more features: What is the difference in RMSE between the model trained with my_features and the one trained with advanced_features?**\n",
    "\n",
    "the RMSE of the model with advanced_features lower by less than $25,000\n",
    "\n",
    "the RMSE of the model with advanced_features lower by between $25,001 and $35,000\n",
    "\n",
    "the RMSE of the model with advanced_features lower by between $35,001 and $45,000\n",
    "\n",
    "the RMSE of the model with advanced_features lower by between $45,001 and $55,000\n",
    "\n",
    "the RMSE of the model with advanced_features lower by more than $55,000"
   ]
  },
  {
   "cell_type": "code",
   "execution_count": 51,
   "metadata": {
    "collapsed": false
   },
   "outputs": [],
   "source": [
    "my_features = ['bedrooms', 'bathrooms', 'sqft_living', 'sqft_lot', 'floors', 'zipcode']\n",
    "advanced_features = [\n",
    "    'bedrooms', 'bathrooms', 'sqft_living', 'sqft_lot', 'floors', 'zipcode',\n",
    "    'condition', # condition of house\t\t\t\t\n",
    "    'grade', # measure of quality of construction\t\t\t\t\n",
    "    'waterfront', # waterfront property\t\t\t\t\n",
    "    'view', # type of view\t\t\t\t\n",
    "    'sqft_above', # square feet above ground\t\t\t\t\n",
    "    'sqft_basement', # square feet in basement\t\t\t\t\n",
    "    'yr_built', # the year built\t\t\t\t\n",
    "    'yr_renovated', # the year renovated\t\t\t\t\n",
    "    'lat', 'long', # the lat-long of the parcel\t\t\t\t\n",
    "    'sqft_living15', # average sq.ft. of 15 nearest neighbors \t\t\t\t\n",
    "    'sqft_lot15', # average lot size of 15 nearest neighbors \n",
    "    ]\n"
   ]
  },
  {
   "cell_type": "code",
   "execution_count": 57,
   "metadata": {
    "collapsed": false
   },
   "outputs": [
    {
     "data": {
      "text/plain": [
       "(255637.33438786445, 201163.90238547081, 54473.432002393645)"
      ]
     },
     "execution_count": 57,
     "metadata": {},
     "output_type": "execute_result"
    }
   ],
   "source": [
    "from sklearn import linear_model\n",
    "from sklearn.metrics import mean_squared_error\n",
    "\n",
    "my_lr = linear_model.LinearRegression()\n",
    "y = df['price']\n",
    "my_X = df[my_features]\n",
    "my_lr.fit(my_X, y)\n",
    "y_pred = my_lr.predict(my_X)\n",
    "my_RMSE = np.sqrt(mean_squared_error(y, y_pred))\n",
    "\n",
    "ad_lr = linear_model.LinearRegression()\n",
    "ad_X = df[advanced_features]\n",
    "ad_lr.fit(ad_X, y)\n",
    "y_pred = ad_lr.predict(ad_X)\n",
    "ad_RMSE = np.sqrt(mean_squared_error(y, y_pred))\n",
    "\n",
    "my_RMSE, ad_RMSE, my_RMSE - ad_RMSE, \n"
   ]
  }
 ],
 "metadata": {
  "kernelspec": {
   "display_name": "Python 2",
   "language": "python",
   "name": "python2"
  },
  "language_info": {
   "codemirror_mode": {
    "name": "ipython",
    "version": 2
   },
   "file_extension": ".py",
   "mimetype": "text/x-python",
   "name": "python",
   "nbconvert_exporter": "python",
   "pygments_lexer": "ipython2",
   "version": "2.7.10"
  }
 },
 "nbformat": 4,
 "nbformat_minor": 0
}
