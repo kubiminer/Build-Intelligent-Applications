{
 "cells": [
  {
   "cell_type": "markdown",
   "metadata": {},
   "source": [
    "##Predicting house prices\n"
   ]
  },
  {
   "cell_type": "code",
   "execution_count": 5,
   "metadata": {
    "collapsed": true
   },
   "outputs": [],
   "source": [
    "from __future__ import division"
   ]
  },
  {
   "cell_type": "code",
   "execution_count": 6,
   "metadata": {
    "collapsed": false
   },
   "outputs": [
    {
     "data": {
      "text/plain": [
       "Index([u'id', u'date', u'price', u'bedrooms', u'bathrooms', u'sqft_living',\n",
       "       u'sqft_lot', u'floors', u'waterfront', u'view', u'condition', u'grade',\n",
       "       u'sqft_above', u'sqft_basement', u'yr_built', u'yr_renovated',\n",
       "       u'zipcode', u'lat', u'long', u'sqft_living15', u'sqft_lot15'],\n",
       "      dtype='object')"
      ]
     },
     "execution_count": 6,
     "metadata": {},
     "output_type": "execute_result"
    }
   ],
   "source": [
    "import numpy as np\n",
    "import pandas as pd\n",
    "\n",
    "df = pd.read_csv('home_data.csv')\n",
    "df.columns"
   ]
  },
  {
   "cell_type": "markdown",
   "metadata": {},
   "source": [
    "**1. Selection and summary statistics: We found the zip code with the highest average house price. What is the average house price of that zip code?**\n",
    "\n",
    "$75,000\n",
    "\n",
    "$7,700,000\n",
    "\n",
    "$540,088\n",
    "\n",
    "$2,160,607"
   ]
  },
  {
   "cell_type": "code",
   "execution_count": 2,
   "metadata": {
    "collapsed": false
   },
   "outputs": [
    {
     "data": {
      "text/html": [
       "<div>\n",
       "<table border=\"1\" class=\"dataframe\">\n",
       "  <thead>\n",
       "    <tr style=\"text-align: right;\">\n",
       "      <th></th>\n",
       "      <th>price</th>\n",
       "    </tr>\n",
       "    <tr>\n",
       "      <th>zipcode</th>\n",
       "      <th></th>\n",
       "    </tr>\n",
       "  </thead>\n",
       "  <tbody>\n",
       "    <tr>\n",
       "      <th>98039</th>\n",
       "      <td>2160606</td>\n",
       "    </tr>\n",
       "    <tr>\n",
       "      <th>98004</th>\n",
       "      <td>1355927</td>\n",
       "    </tr>\n",
       "    <tr>\n",
       "      <th>98040</th>\n",
       "      <td>1194230</td>\n",
       "    </tr>\n",
       "    <tr>\n",
       "      <th>98112</th>\n",
       "      <td>1095499</td>\n",
       "    </tr>\n",
       "    <tr>\n",
       "      <th>98102</th>\n",
       "      <td>901258</td>\n",
       "    </tr>\n",
       "  </tbody>\n",
       "</table>\n",
       "</div>"
      ],
      "text/plain": [
       "           price\n",
       "zipcode         \n",
       "98039    2160606\n",
       "98004    1355927\n",
       "98040    1194230\n",
       "98112    1095499\n",
       "98102     901258"
      ]
     },
     "execution_count": 2,
     "metadata": {},
     "output_type": "execute_result"
    }
   ],
   "source": [
    "df_grp = df[['zipcode','price']].groupby('zipcode').mean()\n",
    "df_grp.sort_values(by='price', ascending=False)[:5]"
   ]
  },
  {
   "cell_type": "markdown",
   "metadata": {},
   "source": [
    "**2. Filtering data: What fraction of the houses have living space between 2000 sq.ft. and 4000 sq.ft.?**\n",
    "\n",
    "Between 0.2 and 0.29\n",
    "\n",
    "Between 0.3 and 0.39\n",
    "\n",
    "Between 0.4 and 0.49\n",
    "\n",
    "Between 0.5 and 0.59\n",
    "\n",
    "Between 0.6 and 0.69"
   ]
  },
  {
   "cell_type": "code",
   "execution_count": 3,
   "metadata": {
    "collapsed": false
   },
   "outputs": [
    {
     "name": "stdout",
     "output_type": "stream",
     "text": [
      "0.45\n"
     ]
    }
   ],
   "source": [
    "print( \"%.2f\" % (df['sqft_living'][(df['sqft_living']>2000) & (df['sqft_living']<5000)].size / df['sqft_living'].size))"
   ]
  },
  {
   "cell_type": "markdown",
   "metadata": {},
   "source": [
    "**3.Building a regression model with several more features: What is the difference in RMSE between the model trained with my_features and the one trained with advanced_features?**\n",
    "\n",
    "the RMSE of the model with advanced_features lower by less than $25,000\n",
    "\n",
    "the RMSE of the model with advanced_features lower by between $25,001 and $35,000\n",
    "\n",
    "the RMSE of the model with advanced_features lower by between $35,001 and $45,000\n",
    "\n",
    "the RMSE of the model with advanced_features lower by between $45,001 and $55,000\n",
    "\n",
    "the RMSE of the model with advanced_features lower by more than $55,000"
   ]
  },
  {
   "cell_type": "code",
   "execution_count": 7,
   "metadata": {
    "collapsed": false
   },
   "outputs": [],
   "source": [
    "my_features = ['bedrooms', 'bathrooms', 'sqft_living', 'sqft_lot', 'floors', 'zipcode']\n",
    "advanced_features = [\n",
    "    'bedrooms', 'bathrooms', 'sqft_living', 'sqft_lot', 'floors', 'zipcode',\n",
    "    'condition', # condition of house\n",
    "    'grade', # measure of quality of construction\n",
    "    'waterfront', # waterfront property\n",
    "    'view', # type of view\n",
    "    'sqft_above', # square feet above ground\n",
    "    'sqft_basement', # square feet in basement\n",
    "    'yr_built', # the year built\n",
    "    'yr_renovated', # the year renovated\n",
    "    'lat', 'long', # the lat-long of the parcel\n",
    "    'sqft_living15', # average sq.ft. of 15 nearest neighbors\n",
    "    'sqft_lot15', # average lot size of 15 nearest neighbors \n",
    "    ]\n"
   ]
  },
  {
   "cell_type": "code",
   "execution_count": 25,
   "metadata": {
    "collapsed": false
   },
   "outputs": [],
   "source": [
    "# change 'zipcode' to dummies\n",
    "\n",
    "zipcode = pd.get_dummies(df['zipcode'])\n",
    "my_df = df[my_features].drop('zipcode',axis=1)\n",
    "my_df = pd.concat([zipcode, my_df], axis=1)\n",
    "ad_df = df[advanced_features].drop('zipcode',axis=1)\n",
    "ad_df = pd.concat([zipcode, ad_df], axis=1)"
   ]
  },
  {
   "cell_type": "code",
   "execution_count": 26,
   "metadata": {
    "collapsed": false,
    "scrolled": false
   },
   "outputs": [
    {
     "data": {
      "text/plain": [
       "(171861.75510031905, 149854.64964335991, 22007.105456959136)"
      ]
     },
     "execution_count": 26,
     "metadata": {},
     "output_type": "execute_result"
    }
   ],
   "source": [
    "import numpy as np\n",
    "from sklearn import linear_model\n",
    "from sklearn.cross_validation import train_test_split\n",
    "\n",
    "def RMSE(X, y):\n",
    "    X_train, X_test, y_train, y_test = train_test_split(\n",
    "        X, y, train_size = 0.8, random_state=0)\n",
    "    lr = linear_model.LinearRegression()\n",
    "    lr.fit(X_train, y_train)\n",
    "    y_pred = lr.predict(X_test)\n",
    "    return np.sqrt(((y_test - y_pred) ** 2).mean())\n",
    "\n",
    "\n",
    "\n",
    "my_RMSE = RMSE(my_df, df['price'])\n",
    "ad_RMSE = RMSE(ad_df, df['price'])\n",
    "\n",
    "my_RMSE, ad_RMSE, my_RMSE - ad_RMSE\n"
   ]
  },
  {
   "cell_type": "code",
   "execution_count": 4,
   "metadata": {
    "collapsed": false
   },
   "outputs": [],
   "source": []
  },
  {
   "cell_type": "code",
   "execution_count": 31,
   "metadata": {
    "collapsed": false
   },
   "outputs": [],
   "source": [
    "my_lr = linear_model.LinearRegression()\n",
    "y = df['price']\n",
    "my_X = df[my_features]\n",
    "my_lr.fit(my_X, y)\n",
    "y_pred = my_lr.predict(my_X)\n",
    "my_RMSE = np.sqrt( ((y - y_pred) ** 2).mean())\n"
   ]
  },
  {
   "cell_type": "code",
   "execution_count": 28,
   "metadata": {
    "collapsed": false
   },
   "outputs": [],
   "source": [
    "ad_lr = linear_model.LinearRegression()\n",
    "ad_X = df[advanced_features]\n",
    "ad_lr.fit(ad_X, y)\n",
    "y_pred = ad_lr.predict(ad_X)\n",
    "ad_RMSE = np.sqrt( ((y - y_pred) ** 2).mean())\n"
   ]
  },
  {
   "cell_type": "code",
   "execution_count": 29,
   "metadata": {
    "collapsed": false
   },
   "outputs": [
    {
     "data": {
      "text/plain": [
       "(255637.33438786431, 201163.90238547101, 54473.432002393296)"
      ]
     },
     "execution_count": 29,
     "metadata": {},
     "output_type": "execute_result"
    }
   ],
   "source": [
    "my_RMSE, ad_RMSE, my_RMSE - ad_RMSE\n"
   ]
  }
 ],
 "metadata": {
  "kernelspec": {
   "display_name": "Python 2",
   "language": "python",
   "name": "python2"
  },
  "language_info": {
   "codemirror_mode": {
    "name": "ipython",
    "version": 2
   },
   "file_extension": ".py",
   "mimetype": "text/x-python",
   "name": "python",
   "nbconvert_exporter": "python",
   "pygments_lexer": "ipython2",
   "version": "2.7.10"
  }
 },
 "nbformat": 4,
 "nbformat_minor": 0
}
